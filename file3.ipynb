{
 "cells": [
  {
   "cell_type": "code",
   "execution_count": 1,
   "id": "1e7c9f33",
   "metadata": {},
   "outputs": [],
   "source": [
    "from sklearn.model_selection import train_test_split\n",
    "from sklearn.compose import ColumnTransformer\n",
    "from sklearn.impute import SimpleImputer\n",
    "from sklearn.preprocessing import OneHotEncoder\n",
    "import pandas as pd\n",
    "\n",
    "# Assuming 'df' is the dataframe containing the dataset\n",
    "X_train, X_test, y_train, y_test = train_test_split(df.drop(columns=['HighIncome']), df['HighIncome'], test_size=0.2)\n",
    "\n",
    "# ColumnTransformer with different transformers\n",
    "transformer = ColumnTransformer(transformers=[\n",
    "    ('impute_education', SimpleImputer(strategy='most_frequent'), ['EducationLevel']),\n",
    "    ('onehot_gender', OneHotEncoder(sparse_output=False, drop='first'), ['Gender']),\n",
    "    ('onehot_city', OneHotEncoder(sparse_output=False, drop='first'), ['City'])\n",
    "], remainder='passthrough')\n",
    "\n",
    "# Fitting the transformer on the training data\n",
    "transformer.fit(X_train)\n",
    "\n",
    "# Transforming the train and test data\n",
    "X_train_transformed = transformer.transform(X_train)\n",
    "X_test_transformed = transformer.transform(X_test)\n",
    "\n",
    "# Checking the shape of the transformed datasets\n",
    "print(X_train_transformed.shape)\n",
    "print(X_test_transformed.shape)"
   ]
  }
 ],
 "metadata": {
  "kernelspec": {
   "display_name": "Python 3",
   "language": "python",
   "name": "python3"
  },
  "language_info": {
   "codemirror_mode": {
    "name": "ipython",
    "version": 3
   },
   "file_extension": ".py",
   "mimetype": "text/x-python",
   "name": "python",
   "nbconvert_exporter": "python",
   "version": "3.9.7"
  }
 },
 "nbformat": 4,
 "nbformat_minor": 5
}
