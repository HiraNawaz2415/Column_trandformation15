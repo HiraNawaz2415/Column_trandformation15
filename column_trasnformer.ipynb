{
  "data": [
    {
      "Age": 56,
      "Gender": "Male",
      "EducationLevel": "High School",
      "City": "Los Angeles",
      "HighIncome": 1
    },
    {
      "Age": 46,
      "Gender": "Male",
      "EducationLevel": "Bachelors",
      "City": "Houston",
      "HighIncome": 1
    },
    {
      "Age": 32,
      "Gender": "Male",
      "EducationLevel": "Masters",
      "City": "New York",
      "HighIncome": 0
    },
    {
      "Age": 60,
      "Gender": "Male",
      "EducationLevel": "PhD",
      "City": "Los Angeles",
      "HighIncome": 0
    },
    {
      "Age": 25,
      "Gender": "Male",
      "EducationLevel": "Bachelors",
      "City": "Chicago",
      "HighIncome": 0
    },
    {
      "Age": 24,
      "Gender": "Male",
      "EducationLevel": "NaN",
      "City": "Los Angeles",
      "HighIncome": 0
    },
    {
      "Age": 38,
      "Gender": "Female",
      "EducationLevel": "Bachelors",
      "City": "Houston",
      "HighIncome": 0
    },
    {
      "Age": 40,
      "Gender": "Female",
      "EducationLevel": "Masters",
      "City": "Phoenix",
      "HighIncome": 0
    },
    {
      "Age": 59,
      "Gender": "Male",
      "EducationLevel": "High School",
      "City": "Chicago",
      "HighIncome": 0
    },
    {
      "Age": 23,
      "Gender": "Female",
      "EducationLevel": "High School",
      "City": "New York",
      "HighIncome": 0
    },
    {
      "Age": 28,
      "Gender": "Male",
      "EducationLevel": "Bachelors",
      "City": "Boston",
      "HighIncome": 0
    },
    {
      "Age": 33,
      "Gender": "Female",
      "EducationLevel": "PhD",
      "City": "Dallas",
      "HighIncome": 1
    },
    {
      "Age": 40,
      "Gender": "Female",
      "EducationLevel": "Masters",
      "City": "Los Angeles",
      "HighIncome": 1
    },
    {
      "Age": 53,
      "Gender": "Male",
      "EducationLevel": "Masters",
      "City": "Houston",
      "HighIncome": 1
    },
    {
      "Age": 30,
      "Gender": "Female",
      "EducationLevel": "Bachelors",
      "City": "Chicago",
      "HighIncome": 0
    },
    {
      "Age": 37,
      "Gender": "Male",
      "EducationLevel": "PhD",
      "City": "New York",
      "HighIncome": 1
    },
    {
      "Age": 22,
      "Gender": "Female",
      "EducationLevel": "High School",
      "City": "Phoenix",
      "HighIncome": 0
    },
    {
      "Age": 29,
      "Gender": "Male",
      "EducationLevel": "Bachelors",
      "City": "Chicago",
      "HighIncome": 0
    },
    {
      "Age": 34,
      "Gender": "Female",
      "EducationLevel": "Bachelors",
      "City": "New York",
      "HighIncome": 0
    },
    {
      "Age": 50,
      "Gender": "Male",
      "EducationLevel": "Masters",
      "City": "Los Angeles",
      "HighIncome": 1
    }
  ],
  "description": {
    "Age": {
      "count": 500,
      "mean": 41.278,
      "std": 13.389072,
      "min": 18,
      "25%": 30,
      "50%": 42,
      "75%": 52,
      "max": 64
    },
    "HighIncome": {
      "count": 500,
      "mean": 0.342,
      "std": 0.474855,
      "min": 0,
      "25%": 0,
      "50%": 0,
      "75%": 1,
      "max": 1
    }
  },
  "info": {
    "columns": {
      "Age": "int64",
      "Gender": "object",
      "EducationLevel": "object",
      "City": "object",
      "HighIncome": "int64"
    },
    "memory_usage": "23.6 KB",
    "null_values": {
      "EducationLevel": 30
    }
  },
  "shape": [500, 5],
  "missing_values": {
    "Age": 0,
    "Gender": 0,
    "EducationLevel": 30,
    "City": 0,
    "HighIncome": 0
  }
}
