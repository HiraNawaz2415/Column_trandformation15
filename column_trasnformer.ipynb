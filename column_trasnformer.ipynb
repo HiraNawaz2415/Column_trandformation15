{
 "cells": [
  {
   "cell_type": "markdown",
   "metadata": {},
   "source": [
    "# ColumnTransformer in Machine Learning\n",
    "A **ColumnTransformer** in machine learning (specifically in Python's **scikit-learn**) is a tool used to apply different preprocessing steps to different columns of your dataset.\n",
    "\n",
    "## Why it's Useful:\n",
    "In real-world datasets, different types of features require different preprocessing. For example:\n",
    "\n",
    "- **Numeric features** might need scaling (e.g., **StandardScaler**).\n",
    "- **Categorical features** might need encoding (e.g., **OneHotEncoder**).\n",
    "\n",
    "Doing this manually for each column is inefficient. **ColumnTransformer** automates this process, applying appropriate preprocessing to each feature automatically.\n",
    "\n",
    "### Without ColumnTransformer\n",
    "\n",
    "Before using **ColumnTransformer**, let's see how we would handle preprocessing manually for each column. \n",
    "\n",
    "#### Example Data\n"
   ]
  },
  {
   "cell_type": "code",
   "execution_count": 1,
   "id": "89cf4f1b",
   "metadata": {},
   "outputs": [
    {
     "name": "stdout",
     "output_type": "stream",
     "text": [
      "   age  income  gender\n",
      "0   25   50000    Male\n",
      "1   30   60000  Female\n",
      "2   22   40000    Male\n",
      "3   35   70000  Female\n"
     ]
    }
   ],
   "source": [
    "import pandas as pd\n",
    "\n",
    "# Load data\n",
    "df = pd.read_csv('people_data_with_target.csv')\n",
    "\n",
    "# Check the first few rows of the dataset\n",
    "df.head()"
   ]
  },
  {
   "cell_type": "markdown",
   "metadata": {},
   "source": [
    "### After applying ColumnTransformer\n",
    "\n",
    "Now, let's apply the **ColumnTransformer** for efficient preprocessing.\n"
   ]
  },
  {
   "cell_type": "code",
   "execution_count": 2,
   "id": "9e76041c",
   "metadata": {},
   "outputs": [
    {
     "name": "stdout",
     "output_type": "stream",
     "text": [
      "   age  income  gender_Male  gender_Female\n",
      "0   -1.336306   -1.183215     1.0            0.0\n",
      "1    0.267261    0.267261     0.0            1.0\n",
      "2   -1.774759   -1.774759     1.0            0.0\n",
      "3    1.843804    2.690677     0.0            1.0\n"
     ]
    }
   ],
   "source": [
    "from sklearn.compose import ColumnTransformer\n",
    "from sklearn.preprocessing import StandardScaler, OneHotEncoder\n",
    "from sklearn.pipeline import Pipeline\n",
    "\n",
    "# Define the ColumnTransformer\n",
    "preprocessor = ColumnTransformer(\n",
    "    transformers=[\n",
    "        ('num', StandardScaler(), ['age', 'income']),  # Scale 'age' and 'income'\n",
    "        ('cat', OneHotEncoder(), ['gender'])           # One-hot encode 'gender'\n",
    "    ])\n",
    "\n",
    "# Apply the transformations to the data\n",
    "transformed_data = preprocessor.fit_transform(df)\n",
    "\n",
    "# Convert the transformed data back to a DataFrame for easier inspection\n",
    "transformed_df = pd.DataFrame(transformed_data, columns=['age', 'income', 'gender_Male', 'gender_Female'])\n",
    "\n",
    "# Display the transformed data\n",
    "transformed_df.head()"
   ]
  },
  {
   "cell_type": "markdown",
   "metadata": {},
   "source": [
    "### Explanation of Code\n",
    "\n",
    "1. **Data Loading**: \n",
    "   - We start by loading a dataset using `pd.read_csv`.\n",
    "\n",
    "2. **ColumnTransformer**: \n",
    "   - The `ColumnTransformer` is defined with two main transformations:\n",
    "     - **Numeric columns** (`age`, `income`) are scaled using **StandardScaler**.\n",
    "     - **Categorical columns** (`gender`) are one-hot encoded using **OneHotEncoder**.\n",
    "\n",
    "3. **Transformation and Output**:\n",
    "   - The data is transformed with the specified preprocessing steps, and the result is a new DataFrame (`transformed_df`) with scaled and one-hot encoded columns."
   ]
  },
  {
   "cell_type": "markdown",
   "metadata": {},
   "source": [
    "### Benefits of ColumnTransformer\n",
    "\n",
    "1. **Efficiency**: You don't need to write separate code for each transformation, and it applies each transformation only to the appropriate columns.\n",
    "2. **Flexibility**: You can easily modify the transformations applied to any column by changing the parameters in the `ColumnTransformer`.\n"
   ]
  }
 ],
 "metadata": {
  "kernelspec": {
   "display_name": "Python 3",
   "language": "python",
   "name": "python3"
  },
  "language_info": {
   "codemirror_mode": {
    "name": "ipython",
    "version": 3
   },
   "file_extension": ".py",
   "mimetype": "text/x-python",
   "name": "python",
   "nbconvert_exporter": "python",
   "version": "3.8.5"
  }
 },
 "nbformat": 4,
 "nbformat_minor": 5
}
