{
  "cells": [
    {
      "cell_type": "markdown",
      "metadata": {},
      "source": [
        "# ColumnTransformer\n",
        "A ColumnTransformer in machine learning (specifically in Python's scikit-learn) is a tool used to apply different preprocessing steps to different columns of your dataset.\n",
        "### Why it's useful:\n",
        "- In real-world datasets, different types of features require different preprocessing. For example:\n",
        "- Numeric features might need scaling (e.g., StandardScaler).\n",
        "- Categorical features might need encoding (e.g., OneHotEncoder).\n",
        "Doing this manually for each column is inefficient. ColumnTransformer automates this process."
      ]
    },
    {
      "cell_type": "code",
      "execution_count": 1,
      "metadata": {},
      "outputs": [
        {
          "name": "stdout",
          "output_type": "stream",
          "text": [
            "   Age    Gender EducationLevel          City   Income  HighIncome\n",
            "0   56     Male     High School   Los Angeles  102762          1\n",
            "1   46     Male     Bachelors     Houston     100020          1\n",
            "2   32     Male     Masters       New York     77310          0\n",
            "3   60     Male     PhD           Los Angeles  38405          0\n",
            "4   25     Male     Bachelors     Chicago      58522          0\n"
          ]
        }
      ],
      "source": [
        "df = pd.read_csv('people_data_with_target.csv')\n",
        "df.head()"
      ]
    },
    {
      "cell_type": "code",
      "execution_count": 2,
      "metadata": {},
      "outputs": [
        {
          "name": "stdout",
          "output_type": "stream",
          "text": [
            "             Age          Income  HighIncome\n",
            "count   500.000000   500.000000   500.000000\n",
            "mean     41.278000   71212.558000   0.342000\n",
            "std      13.389072   20784.357982   0.474855\n",
            "min      18.000000   17803.000000   0.000000\n",
            "25%      30.000000   57747.250000   0.000000\n",
            "50%      42.000000   71026.000000   0.000000\n",
            "75%      52.000000   85387.000000   1.000000\n",
            "max      64.000000   132097.000000  1.000000\n"
          ]
        }
      ],
      "source": [
        "df.describe()"
      ]
    },
    {
      "cell_type": "code",
      "execution_count": 3,
      "metadata": {},
      "outputs": [
        {
          "name": "stdout",
          "output_type": "stream",
          "text": [
            "<class 'pandas.core.frame.DataFrame'>\n",
            "RangeIndex: 500 entries, 0 to 499\n",
            "Data columns (total 6 columns):\n",
            "Age              500 non-null int64\n",
            "Gender           500 non-null object\n",
            "EducationLevel   470 non-null object\n",
            "City             500 non-null object\n",
            "Income           500 non-null int64\n",
            "HighIncome       500 non-null int64\n",
            "dtypes: int64(3), object(3)\n",
            "memory usage: 23.6+ KB"
          ]
        }
      ],
      "source": [
        "df.info()"
      ]
    },
    {
      "cell_type": "code",
      "execution_count": 4,
      "metadata": {},
      "outputs": [
        {
          "name": "stdout",
          "output_type": "stream",
          "text": [
            "Age                0\n",
            "Gender             0\n",
            "EducationLevel    30\n",
            "City               0\n",
            "Income             0\n",
            "HighIncome         0\n",
            "dtype: int64"
          ]
        }
      ],
      "source": [
        "df.isnull().sum()"
      ]
    },
    {
      "cell_type": "code",
      "execution_count": 5,
      "metadata": {},
      "outputs": [],
      "source": [
        "df = df.drop(columns=['Income'])"
      ]
    }
  ],
  "metadata": {
    "kernelspec": {
      "display_name": "Python 3",
      "language": "python",
      "name": "python3"
    },
    "language_info": {
      "codemirror_mode": {
        "name": "ipython",
        "version": 3
      },
      "file_extension": ".py",
      "mimetype": "text/x-python",
      "name": "python",
      "nbconvert_exporter": "python",
      "version": "3.8.10"
    }
  },
  "nbformat": 4,
  "nbformat_minor": 5
}
