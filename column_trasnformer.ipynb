{
 "cells": [
  {
   "cell_type": "markdown",
   "metadata": {},
   "source": [
    "# ColumnTransformer Example with Custom Dataset\n",
    "This example demonstrates how to use `ColumnTransformer` to apply different preprocessing steps to different columns of a dataset, specifically for scaling numerical features and encoding categorical features."
   ]
  },
  {
   "cell_type": "code",
   "execution_count": 1,
   "id": "89cf4f1b",
   "metadata": {},
   "outputs": [
    {
     "name": "stdout",
     "output_type": "stream",
     "text": [
      "   Age  Gender EducationLevel           City  Income  HighIncome\n",
      "0   56   Male     High School    Los Angeles  102762          1\n",
      "1   46   Male     Bachelors      Houston     100020          1\n",
      "2   32   Male     Masters        New York     77310          0\n",
      "3   60   Male         PhD     Los Angeles   38405          0\n",
      "4   25   Male     Bachelors      Chicago     58522          0\n"
     ]
    }
   ],
   "source": [
    "import pandas as pd\n",
    "\n",
    "# Load data\n",
    "df = pd.DataFrame({\n",
    "    'Age': [56, 46, 32, 60, 25],\n",
    "    'Gender': ['Male', 'Male', 'Male', 'Male', 'Male'],\n",
    "    'EducationLevel': ['High School', 'Bachelors', 'Masters', 'PhD', 'Bachelors'],\n",
    "    'City': ['Los Angeles', 'Houston', 'New York', 'Los Angeles', 'Chicago'],\n",
    "    'Income': [102762, 100020, 77310, 38405, 58522],\n",
    "    'HighIncome': [1, 1, 0, 0, 0]\n",
    "})\n",
    "\n",
    "# Display the data\n",
    "df.head()"
   ]
  },
  {
   "cell_type": "markdown",
   "metadata": {},
   "source": [
    "### Apply ColumnTransformer\n",
    "Now let's apply the `ColumnTransformer` to scale numerical features and one-hot encode categorical features."
   ]
  },
  {
   "cell_type": "code",
   "execution_count": 2,
   "id": "9e76041c",
   "metadata": {},
   "outputs": [
    {
     "name": "stdout",
     "output_type": "stream",
     "text": [
      "   Age    Income  Gender_Male  Gender_Female  EducationLevel_Bachelors  EducationLevel_High School  EducationLevel_Masters  EducationLevel_PhD  City_Chicago  City_Houston  City_Los Angeles  City_New York\n",
      "0  -0.467619   1.334114     1.0            0.0                    0.0                        1.0                    0.0                    0.0          0.0           0.0                1.0            0.0\n",
      "1  -0.950418   1.290784     1.0            0.0                    1.0                        0.0                    0.0                    0.0          0.0           1.0                0.0            0.0\n",
      "2  -1.549228  -0.095445     1.0            0.0                    0.0                        0.0                    1.0                    0.0          0.0           0.0                0.0            1.0\n",
      "3   0.598790  -1.482929     1.0            0.0                    0.0                        0.0                    0.0                    1.0          0.0           0.0                1.0            0.0\n",
      "4  -1.349023  -0.340524     1.0            0.0                    1.0                        0.0                    0.0                    0.0          1.0           0.0                0.0            0.0\n"
     ]
    }
   ],
   "source": [
    "from sklearn.compose import ColumnTransformer\n",
    "from sklearn.preprocessing import StandardScaler, OneHotEncoder\n",
    "\n",
    "# Define the ColumnTransformer\n",
    "preprocessor = ColumnTransformer(\n",
    "    transformers=[\n",
    "        ('num', StandardScaler(), ['Age', 'Income']),  # Scale 'Age' and 'Income'\n",
    "        ('cat', OneHotEncoder(), ['Gender', 'EducationLevel', 'City'])  # One-hot encode categorical features\n",
    "    ])\n",
    "\n",
    "# Apply the transformations\n",
    "transformed_data = preprocessor.fit_transform(df)\n",
    "\n",
    "# Convert the transformed data back to a DataFrame\n",
    "transformed_df = pd.DataFrame(transformed_data,\n",
    "                              columns=['Age', 'Income', 'Gender_Male', 'Gender_Female',\n",
    "                                       'EducationLevel_Bachelors', 'EducationLevel_High School',\n",
    "                                       'EducationLevel_Masters', 'EducationLevel_PhD',\n",
    "                                       'City_Chicago', 'City_Houston', 'City_Los Angeles', 'City_New York'])\n",
    "\n",
    "# Display the transformed data\n",
    "transformed_df.head()"
   ]
  },
  {
   "cell_type": "markdown",
   "metadata": {},
   "source": [
    "### Explanation of Code\n",
    "1. **Data Loading**: We load the dataset into a pandas DataFrame.\n",
    "2. **ColumnTransformer**: \n",
    "   - The `ColumnTransformer` applies the following transformations:\n",
    "     - **Scaling**: The `Age` and `Income` columns are scaled using **StandardScaler**.\n",
    "     - **Encoding**: The categorical columns `Gender`, `EducationLevel`, and `City` are one-hot encoded using **OneHotEncoder**.\n",
    "3. **Transformed Output**: The transformed data is displayed as a DataFrame with the scaled and one-hot encoded columns."
   ]
  },
  {
   "cell_type": "markdown",
   "metadata": {},
   "source": [
    "### Benefits of Using ColumnTransformer\n",
    "1. **Efficient Preprocessing**: Automatically applies different preprocessing steps to the respective columns without needing manual intervention for each.\n",
    "2. **Code Readability**: Cleaner code as you don't need to apply transformations one by one for each feature.\n",
    "3. **Consistency**: Ensures the same transformation is applied each time the model is trained or tested, making it easier to reproduce results."
   ]
  }
 ],
 "metadata": {
  "kernelspec": {
   "display_name": "Python 3",
   "language": "python",
   "name": "python3"
  },
  "language_info": {
   "codemirror_mode": {
    "name": "ipython",
    "version": 3
   },
   "file_extension": ".py",
   "mimetype": "text/x-python",
   "name": "python",
   "nbconvert_exporter": "python",
   "version": "3.8.5"
  }
 },
 "nbformat": 4,
 "nbformat_minor": 5
}
