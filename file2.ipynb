{
 "cells": [
  {
   "cell_type": "code",
   "execution_count": 1,
   "id": "df1a5b16",
   "metadata": {},
   "outputs": [
    {
     "name": "stdout",
     "output_type": "stream",
     "text": [
      "import pandas as pd\n",
      "import numpy as np\n",
      "from sklearn.impute import SimpleImputer\n",
      "from sklearn.preprocessing import OneHotEncoder, OrdinalEncoder\n",
      "from sklearn.model_selection import train_test_split\n",
      "df = pd.read_csv('data.csv') # replace with your actual dataset path\n",
      "df.head()"
     ]
    }
   ],
   "source": [
    "import pandas as pd\n",
    "import numpy as np\n",
    "from sklearn.impute import SimpleImputer\n",
    "from sklearn.preprocessing import OneHotEncoder, OrdinalEncoder\n",
    "from sklearn.model_selection import train_test_split\n",
    "df = pd.read_csv('data.csv') # replace with your actual dataset path\n",
    "df.head()"
   ]
  },
  {
   "cell_type": "code",
   "execution_count": 2,
   "id": "train_test_split_step",
   "metadata": {},
   "outputs": [
    {
     "name": "stdout",
     "output_type": "stream",
     "text": [
      "X_train, X_test, y_train, y_test = train_test_split(df.drop(columns=['HighIncome']), df['HighIncome'], test_size=0.2)\n",
      "X_train.shape, X_test.shape"
     ]
    }
   ],
   "source": [
    "X_train, X_test, y_train, y_test = train_test_split(df.drop(columns=['HighIncome']), df['HighIncome'], test_size=0.2)\n",
    "X_train.shape, X_test.shape"
   ]
  },
  {
   "cell_type": "code",
   "execution_count": 3,
   "id": "simple_imputer_step",
   "metadata": {},
   "outputs": [
    {
     "name": "stdout",
     "output_type": "stream",
     "text": [
      "si = SimpleImputer(strategy='most_frequent')\n",
      "X_train_edu_lvl = si.fit_transform(X_train[['EducationLevel']])\n",
      "X_test_edu_lvl = si.fit_transform(X_test[['EducationLevel']])\n",
      "X_train_edu_lvl.shape"
     ]
    }
   ],
   "source": [
    "si = SimpleImputer(strategy='most_frequent')\n",
    "X_train_edu_lvl = si.fit_transform(X_train[['EducationLevel']])\n",
    "X_test_edu_lvl = si.fit_transform(X_test[['EducationLevel']])\n",
    "X_train_edu_lvl.shape"
   ]
  },
  {
   "cell_type": "code",
   "execution_count": 4,
   "id": "onehot_encoder_step",
   "metadata": {},
   "outputs": [
    {
     "name": "stdout",
     "output_type": "stream",
     "text": [
      "ohe = OneHotEncoder(drop='first', sparse_output=False)\n",
      "X_train_gender_city = ohe.fit_transform(X_train[['Gender', 'City']])\n",
      "X_test_gender_city = ohe.fit_transform(X_test[['Gender', 'City']])\n",
      "X_train_gender_city.shape"
     ]
    }
   ],
   "source": [
    "ohe = OneHotEncoder(drop='first', sparse_output=False)\n",
    "X_train_gender_city = ohe.fit_transform(X_train[['Gender', 'City']])\n",
    "X_test_gender_city = ohe.fit_transform(X_test[['Gender', 'City']])\n",
    "X_train_gender_city.shape"
   ]
  },
  {
   "cell_type": "code",
   "execution_count": 5,
   "id": "ordinal_encoder_step",
   "metadata": {},
   "outputs": [
    {
     "name": "stdout",
     "output_type": "stream",
     "text": [
      "oe = OrdinalEncoder(categories=[['High School', 'Bachelors', 'Masters', 'PhD']])\n",
      "X_train_trs_edu_lvl = oe.fit_transform(X_train[['EducationLevel']])\n",
      "X_test_trs_edu_lvl = oe.transform(X_test[['EducationLevel']])\n",
      "X_train_trs_edu_lvl.shape"
     ]
    }
   ],
   "source": [
    "oe = OrdinalEncoder(categories=[['High School', 'Bachelors', 'Masters', 'PhD']])\n",
    "X_train_trs_edu_lvl = oe.fit_transform(X_train[['EducationLevel']])\n",
    "X_test_trs_edu_lvl = oe.transform(X_test[['EducationLevel']])\n",
    "X_train_trs_edu_lvl.shape"
   ]
  },
  {
   "cell_type": "code",
   "execution_count": 6,
   "id": "extract_age_step",
   "metadata": {},
   "outputs": [
    {
     "name": "stdout",
     "output_type": "stream",
     "text": [
      "X_train_age = X_train.drop(columns=['Gender', 'EducationLevel', 'City']).values\n",
      "X_test_age = X_test.drop(columns=['Gender', 'EducationLevel', 'City']).values\n",
      "X_train_age.shape"
     ]
    }
   ],
   "source": [
    "X_train_age = X_train.drop(columns=['Gender', 'EducationLevel', 'City']).values\n",
    "X_test_age = X_test.drop(columns=['Gender', 'EducationLevel', 'City']).values\n",
    "X_train_age.shape"
   ]
  },
  {
   "cell_type": "code",
   "execution_count": 7,
   "id": "concatenate_step",
   "metadata": {},
   "outputs": [
    {
     "name": "stdout",
     "output_type": "stream",
     "text": [
      "X_train_transformed = np.concatenate((X_train_age, X_train_gender_city, X_train_trs_edu_lvl), axis=1)\n",
      "X_test_transformed = np.concatenate((X_test_age, X_test_gender_city, X_test_trs_edu_lvl), axis=1)\n",
      "X_test_transformed.shape"
     ]
    }
   ],
   "source": [
    "X_train_transformed = np.concatenate((X_train_age, X_train_gender_city, X_train_trs_edu_lvl), axis=1)\n",
    "X_test_transformed = np.concatenate((X_test_age, X_test_gender_city, X_test_trs_edu_lvl), axis=1)\n",
    "X_test_transformed.shape"
   ]
  },
  {
   "cell_type": "markdown",
   "id": "final_step",
   "metadata": {},
   "source": [
    "### Final Transformed Data\n",
    "The transformed `X_test_transformed` data is now ready to be used for further processing or model training.\n"
   ]
  },
  {
   "cell_type": "code",
   "execution_count": 8,
   "id": "display_transformed_data",
   "metadata": {},
   "outputs": [
    {
     "name": "stdout",
     "output_type": "stream",
     "text": [
      "X_test_transformed_sample = X_test_transformed[:5]\n",
      "X_test_transformed_sample"
     ]
    }
   ],
   "source": [
    "X_test_transformed_sample = X_test_transformed[:5]\n",
    "X_test_transformed_sample"
   ]
  }
 ],
 "metadata": {
  "kernelspec": {
   "display_name": "Python 3",
   "language": "python",
   "name": "python3"
  },
  "language_info": {
   "codemirror_mode": {
    "name": "ipython",
    "version": 3
   },
   "file_extension": ".py",
   "mimetype": "text/x-python",
   "name": "python",
   "nbconvert_exporter": "python",
   "version": "3.8.10"
  }
 },
 "nbformat": 4,
 "nbformat_minor": 5
}
