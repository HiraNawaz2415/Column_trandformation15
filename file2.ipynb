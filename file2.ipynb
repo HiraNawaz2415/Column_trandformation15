{
 "cells": [
  {
   "cell_type": "code",
   "execution_count": 1,
   "metadata": {},
   "outputs": [],
   "source": [
    "# Importing necessary libraries\n",
    "import numpy as np\n",
    "import pandas as pd\n",
    "from sklearn.model_selection import train_test_split\n",
    "from sklearn.impute import SimpleImputer\n",
    "from sklearn.preprocessing import OneHotEncoder, OrdinalEncoder\n"
   ]
  },
  {
   "cell_type": "code",
   "execution_count": 2,
   "metadata": {},
   "outputs": [],
   "source": [
    "# Sample dataframe (replace this with actual data)\n",
    "data = {'Age': [25, 30, 35, 40, 50],\n",
    "        'Gender': ['Male', 'Female', 'Female', 'Male', 'Female'],\n",
    "        'City': ['New York', 'San Francisco', 'Los Angeles', 'Chicago', 'Boston'],\n",
    "        'EducationLevel': ['Bachelors', 'Masters', 'PhD', 'High School', 'Bachelors'],\n",
    "        'HighIncome': [1, 0, 1, 0, 1]}\n",
    "df = pd.DataFrame(data)\n",
    "df.head()"
   ]
  },
  {
   "cell_type": "code",
   "execution_count": 3,
   "metadata": {},
   "outputs": [
    {
     "name": "stdout",
     "output_type": "stream",
     "text": [
      "   Age  Gender           City EducationLevel  HighIncome\n",
      "0   25    Male       New York       Bachelors           1\n",
      "1   30  Female  San Francisco          Masters           0\n",
      "2   35  Female    Los Angeles            PhD           1\n",
      "3   40    Male       Chicago   High School           0\n",
      "4   50  Female         Boston       Bachelors           1\n"
     ]
    }
   ],
   "source": [
    "# Displaying first few rows of the dataframe\n",
    "df.head()"
   ]
  },
  {
   "cell_type": "code",
   "execution_count": 4,
   "metadata": {},
   "outputs": [],
   "source": [
    "# Splitting data into training and testing sets\n",
    "X_train, X_test, y_train, y_test = train_test_split(df.drop(columns=['HighIncome']), df['HighIncome'], test_size=0.2, random_state=42)\n",
    "X_train.shape, X_test.shape"
   ]
  },
  {
   "cell_type": "code",
   "execution_count": 5,
   "metadata": {},
   "outputs": [
    {
     "name": "stdout",
     "output_type": "stream",
     "text": [
      "(4, 4)",
      "(1, 4)"
     ]
    }
   ],
   "source": [
    "# Checking the shape of the split data\n",
    "X_train.shape, X_test.shape"
   ]
  },
  {
   "cell_type": "code",
   "execution_count": 6,
   "metadata": {},
   "outputs": [],
   "source": [
    "# Missing value imputation for EducationLevel\n",
    "si = SimpleImputer(strategy=\"most_frequent\")\n",
    "X_train_edu_lvl = si.fit_transform(X_train[['EducationLevel']])\n",
    "X_test_edu_lvl = si.transform(X_test[['EducationLevel']])\n",
    "X_train_edu_lvl.shape, X_test_edu_lvl.shape"
   ]
  },
  {
   "cell_type": "code",
   "execution_count": 7,
   "metadata": {},
   "outputs": [
    {
     "name": "stdout",
     "output_type": "stream",
     "text": [
      "(4, 1)",
      "(1, 1)"
     ]
    }
   ],
   "source": [
    "# Checking the shape of the imputed EducationLevel data\n",
    "X_train_edu_lvl.shape, X_test_edu_lvl.shape"
   ]
  },
  {
   "cell_type": "code",
   "execution_count": 8,
   "metadata": {},
   "outputs": [],
   "source": [
    "# OneHotEncoding for Gender and City\n",
    "ohe = OneHotEncoder(drop='first', sparse_output=False)\n",
    "X_train_gender_city = ohe.fit_transform(X_train[['Gender', 'City']])\n",
    "X_test_gender_city = ohe.transform(X_test[['Gender', 'City']])\n",
    "X_train_gender_city.shape, X_test_gender_city.shape"
   ]
  },
  {
   "cell_type": "code",
   "execution_count": 9,
   "metadata": {},
   "outputs": [
    {
     "name": "stdout",
     "output_type": "stream",
     "text": [
      "(4, 5)",
      "(1, 5)"
     ]
    }
   ],
   "source": [
    "# Checking the shape of the OneHotEncoded data\n",
    "X_train_gender_city.shape, X_test_gender_city.shape"
   ]
  },
  {
   "cell_type": "code",
   "execution_count": 10,
   "metadata": {},
   "outputs": [],
   "source": [
    "# Ordinal encoding for EducationLevel\n",
    "oe = OrdinalEncoder(categories=[['High School', 'Bachelors', 'Masters', 'PhD']])\n",
    "X_train_trs_edu_lvl = oe.fit_transform(X_train[['EducationLevel']])\n",
    "X_test_trs_edu_lvl = oe.transform(X_test[['EducationLevel']])\n",
    "X_train_trs_edu_lvl.shape, X_test_trs_edu_lvl.shape"
   ]
  },
  {
   "cell_type": "code",
   "execution_count": 11,
   "metadata": {},
   "outputs": [
    {
     "name": "stdout",
     "output_type": "stream",
     "text": [
      "(4, 1)",
      "(1, 1)"
     ]
    }
   ],
   "source": [
    "# Checking the shape of the OrdinalEncoded data\n",
    "X_train_trs_edu_lvl.shape, X_test_trs_edu_lvl.shape"
   ]
  },
  {
   "cell_type": "code",
   "execution_count": 12,
   "metadata": {},
   "outputs": [],
   "source": [
    "# Extracting Age\n",
    "X_train_age = X_train.drop(columns=['Gender', 'EducationLevel', 'City']).values\n",
    "X_test_age = X_test.drop(columns=['Gender', 'EducationLevel', 'City']).values\n",
    "X_train_age.shape, X_test_age.shape"
   ]
  },
  {
   "cell_type": "code",
   "execution_count": 13,
   "metadata": {},
   "outputs": [
    {
     "name": "stdout",
     "output_type": "stream",
     "text": [
      "(4, 2)",
      "(1, 2)"
     ]
    }
   ],
   "source": [
    "# Checking the shape of the extracted Age data\n",
    "X_train_age.shape, X_test_age.shape"
   ]
  },
  {
   "cell_type": "code",
   "execution_count": 14,
   "metadata": {},
   "outputs": [],
   "source": [
    "# Concatenating all the transformed data\n",
    "X_train_transformed = np.concatenate((X_train_age, X_train_gender_city, X_train_trs_edu_lvl), axis=1)\n",
    "X_test_transformed = np.concatenate((X_test_age, X_test_gender_city, X_test_trs_edu_lvl), axis=1)\n",
    "X_train_transformed.shape, X_test_transformed.shape"
   ]
  },
  {
   "cell_type": "code",
   "execution_count": 15,
   "metadata": {},
   "outputs": [
    {
     "name": "stdout",
     "output_type": "stream",
     "text": [
      "(4, 8)",
      "(1, 8)"
     ]
    }
   ],
   "source": [
    "# Checking the shape of the final concatenated data\n",
    "X_train_transformed.shape, X_test_transformed.shape"
   ]
  },
  {
   "cell_type": "code",
   "execution_count": 16,
   "metadata": {},
   "outputs": [
    {
     "name": "stdout",
     "output_type": "stream",
     "text": [
      "array([[1.80000e+01, 1.00426e+05, 1.00000e+00, ..., 0.00000e+00,\n",
      "        0.00000e+00, 1.00000e+00],\n",
      "       [1.90000e+01, 9.65410e+04, 1.00000e+00, ..., 0.00000e+00,\n",
      "        0.00000e+00, 1.00000e+00],\n",
      "       [1.80000e+01, 8.15070e+04, 1.00000e+00, ..., 0.00000e+00,\n",
      "        0.00000e+00, 3.00000e+00],\n",
      "       [5.30000e+01, 6.50690e+04, 0.00000e+00, ..., 1.00000e+00,\n",
      "        0.00000e+00, 0.00000e+00],\n",
      "       [4.80000e+01, 3.06170e+04, 1.00000e+00, ..., 0.00000e+00,\n",
      "        1.00000e+00, 3.00000e+00],\n",
      "       [5.00000e+01, 6.18430e+04, 1.00000e+00, ..., 0.00000e+00,\n",
      "        0.00000e+00, 0.00000e+00]])"
     ]
    }
   ],
   "source": [
    "# Displaying the transformed data\n",
    "X_train_transformed"
   ]
  }
 ],
 "metadata": {
  "kernelspec": {
   "display_name": "Python 3",
   "language": "python",
   "name": "python3"
  },
  "language_info": {
   "codemirror_mode": {
    "name": "ipython",
    "version": 3
   },
   "file_extension": ".py",
  
