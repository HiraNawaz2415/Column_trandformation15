{
 "cells": [
  {
   "cell_type": "code",
   "execution_count": 1,
   "id": "a1b2c3d4e5f6",
   "metadata": {},
   "outputs": [
    {
     "name": "stdout",
     "output_type": "stream",
     "text": [
      "Starting data processing...\n"
     ]
    }
   ],
   "source": [
    "# Import required libraries\n",
    "from sklearn.model_selection import train_test_split\n",
    "from sklearn.impute import SimpleImputer\n",
    "from sklearn.preprocessing import OneHotEncoder, OrdinalEncoder\n",
    "import numpy as np\n",
    "\n",
    "# Sample dataset\n",
    "df = # Your dataframe here\n",
    "\n",
    "# Split data into training and testing\n",
    "X_train, X_test, y_train, y_test = train_test_split(df.drop(columns=['HighIncome']), df['HighIncome'], test_size=0.2)\n",
    "\n",
    "# Simple Imputer\n",
    "si = SimpleImputer(strategy='most_frequent')\n",
    "X_train_edu_lvl = si.fit_transform(X_train[['EducationLevel']])\n",
    "X_test_edu_lvl = si.transform(X_test[['EducationLevel']])\n",
    "\n",
    "# OneHotEncoding\n",
    "ohe = OneHotEncoder(drop='first', sparse_output=False)\n",
    "X_train_gender_city = ohe.fit_transform(X_train[['Gender', 'City']])\n",
    "X_test_gender_city = ohe.transform(X_test[['Gender', 'City']])\n",
    "\n",
    "# Ordinal Encoding\n",
    "oe = OrdinalEncoder(categories=[['High School', 'Bachelors', 'Masters', 'PhD']])\n",
    "X_train_trs_edu_lvl = oe.fit_transform(X_train[['EducationLevel']])\n",
    "X_test_trs_edu_lvl = oe.transform(X_test[['EducationLevel']])\n",
    "\n",
    "# Extract Age\n",
    "X_train_age = X_train.drop(columns=['Gender', 'EducationLevel', 'City']).values\n",
    "X_test_age = X_test.drop(columns=['Gender', 'EducationLevel', 'City']).values\n",
    "\n",
    "# Concatenate transformed features\n",
    "X_train_transformed = np.concatenate((X_train_age, X_train_gender_city, X_train_trs_edu_lvl), axis=1)\n",
    "X_test_transformed = np.concatenate((X_test_age, X_test_gender_city, X_test_trs_edu_lvl), axis=1)\n",
    "\n",
    "# Check shapes\n",
    "print(X_train_transformed.shape)\n",
    "print(X_test_transformed.shape)\n"
   ]
  }
 ],
 "metadata": {
  "kernelspec": {
   "display_name": "Python 3",
   "language": "python",
   "name": "python3"
  },
  "language_info": {
   "codemirror_mode": {
    "name": "ipython",
    "version": 3
   },
   "file_extension": ".py",
   "mimetype": "text/x-python",
   "name": "python",
   "nbconvert_exporter": "python",
   "version": "3.8.8"
  }
 },
 "nbformat": 4,
 "nbformat_minor": 5
}
