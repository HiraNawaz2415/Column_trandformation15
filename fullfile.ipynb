{
 "metadata": {
  "language_info": {
   "codemirror_mode": {
    "name": "ipython",
    "version": 3
   },
   "file_extension": ".py",
   "mimetype": "text/x-python",
   "name": "python",
   "nbconvert_exporter": "python",
   "pygments_lexer": "ipython3",
   "version": "3.12.2-final"
  },
  "orig_nbformat": 2,
  "kernelspec": {
   "name": "python3",
   "display_name": "Python 3.12.2 64-bit ('venv2')",
   "metadata": {
    "interpreter": {
     "hash": "03487c50d935b3e404dd753985c7279e44fb229f54955b1da4b4970915666a9f"
    }
   }
  }
 },
 "nbformat": 4,
 "nbformat_minor": 2,
 "cells": [
  {
   "source": [
    "# ColumnTransformer\n",
    "- A ColumnTransformer in machine learning (specifically in Python's scikit-learn) is a tool used to apply different preprocessing steps to different columns of your dataset.\n",
    "### Why it's useful:\n",
    "- In real-world datasets, different types of features require different preprocessing. For example:\n",
    "\n",
    "- Numeric features might need scaling (e.g., StandardScaler).\n",
    "\n",
    "- Categorical features might need encoding (e.g., OneHotEncoder).\n",
    "\n",
    "Doing this manually for each column is inefficient. ColumnTransformer automates this process."
   ],
   "cell_type": "markdown",
   "metadata": {}
  },
  {
   "source": [
    "# Without Column transformer------"
   ],
   "cell_type": "markdown",
   "metadata": {}
  },
  {
   "cell_type": "code",
   "execution_count": 107,
   "metadata": {},
   "outputs": [],
   "source": [
    "import pandas as pd\n",
    "\n",
    "# Load data\n",
    "df = pd.read_csv('people_data_with_target.csv')\n",
    "\n",
    "\n"
   ]
  },
  {
   "cell_type": "code",
   "execution_count": 108,
   "metadata": {},
   "outputs": [
    {
     "output_type": "execute_result",
     "data": {
      "text/plain": [
       "   Age Gender EducationLevel         City  Income  HighIncome\n",
       "0   56   Male    High School  Los Angeles  102762           1\n",
       "1   46   Male      Bachelors      Houston  100020           1\n",
       "2   32   Male        Masters     New York   77310           0\n",
       "3   60   Male            PhD  Los Angeles   38405           0\n",
       "4   25   Male      Bachelors      Chicago   58522           0"
      ],
      "text/html": "<div>\n<style scoped>\n    .dataframe tbody tr th:only-of-type {\n        vertical-align: middle;\n    }\n\n    .dataframe tbody tr th {\n        vertical-align: top;\n    }\n\n    .dataframe thead th {\n        text-align: right;\n    }\n</style>\n<table border=\"1\" class=\"dataframe\">\n  <thead>\n    <tr style=\"text-align: right;\">\n      <th></th>\n      <th>Age</th>\n      <th>Gender</th>\n      <th>EducationLevel</th>\n      <th>City</th>\n      <th>Income</th>\n      <th>HighIncome</th>\n    </tr>\n  </thead>\n  <tbody>\n    <tr>\n      <th>0</th>\n      <td>56</td>\n      <td>Male</td>\n      <td>High School</td>\n      <td>Los Angeles</td>\n      <td>102762</td>\n      <td>1</td>\n    </tr>\n    <tr>\n      <th>1</th>\n      <td>46</td>\n      <td>Male</td>\n      <td>Bachelors</td>\n      <td>Houston</td>\n      <td>100020</td>\n      <td>1</td>\n    </tr>\n    <tr>\n      <th>2</th>\n      <td>32</td>\n      <td>Male</td>\n      <td>Masters</td>\n      <td>New York</td>\n      <td>77310</td>\n      <td>0</td>\n    </tr>\n    <tr>\n      <th>3</th>\n      <td>60</td>\n      <td>Male</td>\n      <td>PhD</td>\n      <td>Los Angeles</td>\n      <td>38405</td>\n      <td>0</td>\n    </tr>\n    <tr>\n      <th>4</th>\n      <td>25</td>\n      <td>Male</td>\n      <td>Bachelors</td>\n      <td>Chicago</td>\n      <td>58522</td>\n      <td>0</td>\n    </tr>\n  </tbody>\n</table>\n</div>"
     },
     "metadata": {},
     "execution_count": 108
    }
   ],
   "source": [
    "df.head()"
   ]
  },
  {
   "cell_type": "code",
   "execution_count": 109,
   "metadata": {},
   "outputs": [
    {
     "output_type": "execute_result",
     "data": {
      "text/plain": [
       "              Age         Income  HighIncome\n",
       "count  500.000000     500.000000  500.000000\n",
       "mean    41.278000   71212.558000    0.342000\n",
       "std     13.389072   20784.357982    0.474855\n",
       "min     18.000000   17803.000000    0.000000\n",
       "25%     30.000000   57747.250000    0.000000\n",
       "50%     42.000000   71026.000000    0.000000\n",
       "75%     52.000000   85387.000000    1.000000\n",
       "max     64.000000  132097.000000    1.000000"
      ],
      "text/html": "<div>\n<style scoped>\n    .dataframe tbody tr th:only-of-type {\n        vertical-align: middle;\n    }\n\n    .dataframe tbody tr th {\n        vertical-align: top;\n    }\n\n    .dataframe thead th {\n        text-align: right;\n    }\n</style>\n<table border=\"1\" class=\"dataframe\">\n  <thead>\n    <tr style=\"text-align: right;\">\n      <th></th>\n      <th>Age</th>\n      <th>Income</th>\n      <th>HighIncome</th>\n    </tr>\n  </thead>\n  <tbody>\n    <tr>\n      <th>count</th>\n      <td>500.000000</td>\n      <td>500.000000</td>\n      <td>500.000000</td>\n    </tr>\n    <tr>\n      <th>mean</th>\n      <td>41.278000</td>\n      <td>71212.558000</td>\n      <td>0.342000</td>\n    </tr>\n    <tr>\n      <th>std</th>\n      <td>13.389072</td>\n      <td>20784.357982</td>\n      <td>0.474855</td>\n    </tr>\n    <tr>\n      <th>min</th>\n      <td>18.000000</td>\n      <td>17803.000000</td>\n      <td>0.000000</td>\n    </tr>\n    <tr>\n      <th>25%</th>\n      <td>30.000000</td>\n      <td>57747.250000</td>\n      <td>0.000000</td>\n    </tr>\n    <tr>\n      <th>50%</th>\n      <td>42.000000</td>\n      <td>71026.000000</td>\n      <td>0.000000</td>\n    </tr>\n    <tr>\n      <th>75%</th>\n      <td>52.000000</td>\n      <td>85387.000000</td>\n      <td>1.000000</td>\n    </tr>\n    <tr>\n      <th>max</th>\n      <td>64.000000</td>\n      <td>132097.000000</td>\n      <td>1.000000</td>\n    </tr>\n  </tbody>\n</table>\n</div>"
     },
     "metadata": {},
     "execution_count": 109
    }
   ],
   "source": [
    "df.describe()"
   ]
  },
  {
   "cell_type": "code",
   "execution_count": 47,
   "metadata": {},
   "outputs": [
    {
     "output_type": "stream",
     "name": "stdout",
     "text": [
      "<class 'pandas.core.frame.DataFrame'>\nRangeIndex: 500 entries, 0 to 499\nData columns (total 6 columns):\n #   Column          Non-Null Count  Dtype \n---  ------          --------------  ----- \n 0   Age             500 non-null    int64 \n 1   Gender          500 non-null    object\n 2   EducationLevel  470 non-null    object\n 3   City            500 non-null    object\n 4   Income          500 non-null    int64 \n 5   HighIncome      500 non-null    int64 \ndtypes: int64(3), object(3)\nmemory usage: 23.6+ KB\n"
     ]
    }
   ],
   "source": [
    "df.info()"
   ]
  },
  {
   "cell_type": "code",
   "execution_count": 110,
   "metadata": {},
   "outputs": [
    {
     "output_type": "execute_result",
     "data": {
      "text/plain": [
       "(500, 6)"
      ]
     },
     "metadata": {},
     "execution_count": 110
    }
   ],
   "source": [
    "df.shape"
   ]
  },
  {
   "cell_type": "code",
   "execution_count": 111,
   "metadata": {},
   "outputs": [
    {
     "output_type": "execute_result",
     "data": {
      "text/plain": [
       "Age                0\n",
       "Gender             0\n",
       "EducationLevel    30\n",
       "City               0\n",
       "Income             0\n",
       "HighIncome         0\n",
       "dtype: int64"
      ]
     },
     "metadata": {},
     "execution_count": 111
    }
   ],
   "source": [
    "df.isnull().sum()"
   ]
  },
  {
   "cell_type": "code",
   "execution_count": 50,
   "metadata": {},
   "outputs": [],
   "source": [
    "# Drop 'Income' column to avoid leakage\n",
    "df = df.drop(columns=['Income'])\n"
   ]
  },
  {
   "cell_type": "code",
   "execution_count": 112,
   "metadata": {},
   "outputs": [
    {
     "output_type": "execute_result",
     "data": {
      "text/plain": [
       "     Age  Gender EducationLevel         City  Income  HighIncome\n",
       "52    24    Male            NaN  Los Angeles   64033           0\n",
       "80    38  Female      Bachelors      Houston   68342           0\n",
       "364   40  Female        Masters      Phoenix   68789           0\n",
       "259   59    Male    High School      Chicago   47449           0\n",
       "227   23  Female    High School     New York   60411           0"
      ],
      "text/html": "<div>\n<style scoped>\n    .dataframe tbody tr th:only-of-type {\n        vertical-align: middle;\n    }\n\n    .dataframe tbody tr th {\n        vertical-align: top;\n    }\n\n    .dataframe thead th {\n        text-align: right;\n    }\n</style>\n<table border=\"1\" class=\"dataframe\">\n  <thead>\n    <tr style=\"text-align: right;\">\n      <th></th>\n      <th>Age</th>\n      <th>Gender</th>\n      <th>EducationLevel</th>\n      <th>City</th>\n      <th>Income</th>\n      <th>HighIncome</th>\n    </tr>\n  </thead>\n  <tbody>\n    <tr>\n      <th>52</th>\n      <td>24</td>\n      <td>Male</td>\n      <td>NaN</td>\n      <td>Los Angeles</td>\n      <td>64033</td>\n      <td>0</td>\n    </tr>\n    <tr>\n      <th>80</th>\n      <td>38</td>\n      <td>Female</td>\n      <td>Bachelors</td>\n      <td>Houston</td>\n      <td>68342</td>\n      <td>0</td>\n    </tr>\n    <tr>\n      <th>364</th>\n      <td>40</td>\n      <td>Female</td>\n      <td>Masters</td>\n      <td>Phoenix</td>\n      <td>68789</td>\n      <td>0</td>\n    </tr>\n    <tr>\n      <th>259</th>\n      <td>59</td>\n      <td>Male</td>\n      <td>High School</td>\n      <td>Chicago</td>\n      <td>47449</td>\n      <td>0</td>\n    </tr>\n    <tr>\n      <th>227</th>\n      <td>23</td>\n      <td>Female</td>\n      <td>High School</td>\n      <td>New York</td>\n      <td>60411</td>\n      <td>0</td>\n    </tr>\n  </tbody>\n</table>\n</div>"
     },
     "metadata": {},
     "execution_count": 112
    }
   ],
   "source": [
    "df.sample(5)\n"
   ]
  },
  {
   "cell_type": "code",
   "execution_count": 113,
   "metadata": {},
   "outputs": [
    {
     "output_type": "execute_result",
     "data": {
      "text/plain": [
       "City\n",
       "Phoenix        107\n",
       "Chicago        106\n",
       "Los Angeles    105\n",
       "New York        96\n",
       "Houston         86\n",
       "Name: count, dtype: int64"
      ]
     },
     "metadata": {},
     "execution_count": 113
    }
   ],
   "source": [
    "df['City'].value_counts()"
   ]
  },
  {
   "cell_type": "code",
   "execution_count": 114,
   "metadata": {},
   "outputs": [
    {
     "output_type": "execute_result",
     "data": {
      "text/plain": [
       "EducationLevel\n",
       "Masters        129\n",
       "Bachelors      119\n",
       "High School    118\n",
       "PhD            104\n",
       "Name: count, dtype: int64"
      ]
     },
     "metadata": {},
     "execution_count": 114
    }
   ],
   "source": [
    "df['EducationLevel'].value_counts()"
   ]
  },
  {
   "cell_type": "code",
   "execution_count": 115,
   "metadata": {},
   "outputs": [],
   "source": [
    "# Missing value imputer\n",
    "from sklearn.impute import SimpleImputer\n",
    "imputer = SimpleImputer(strategy='most_frequent')\n",
    "df[\"EducationLevel\"] = imputer.fit_transform(df[[\"EducationLevel\"]]).ravel()\n",
    "\n"
   ]
  },
  {
   "cell_type": "code",
   "execution_count": 116,
   "metadata": {},
   "outputs": [
    {
     "output_type": "execute_result",
     "data": {
      "text/plain": [
       "Age               0\n",
       "Gender            0\n",
       "EducationLevel    0\n",
       "City              0\n",
       "Income            0\n",
       "HighIncome        0\n",
       "dtype: int64"
      ]
     },
     "metadata": {},
     "execution_count": 116
    }
   ],
   "source": [
    "df.isnull().sum()\n"
   ]
  },
  {
   "cell_type": "code",
   "execution_count": 56,
   "metadata": {},
   "outputs": [
    {
     "output_type": "execute_result",
     "data": {
      "text/plain": [
       "EducationLevel\n",
       "Masters        159\n",
       "Bachelors      119\n",
       "High School    118\n",
       "PhD            104\n",
       "Name: count, dtype: int64"
      ]
     },
     "metadata": {},
     "execution_count": 56
    }
   ],
   "source": [
    "df[\"EducationLevel\"].value_counts()"
   ]
  },
  {
   "cell_type": "code",
   "execution_count": 117,
   "metadata": {},
   "outputs": [
    {
     "output_type": "execute_result",
     "data": {
      "text/plain": [
       "array(['High School', 'Bachelors', 'Masters', 'PhD'], dtype=object)"
      ]
     },
     "metadata": {},
     "execution_count": 117
    }
   ],
   "source": [
    "df[\"EducationLevel\"].unique()\n"
   ]
  },
  {
   "cell_type": "code",
   "execution_count": 104,
   "metadata": {},
   "outputs": [],
   "source": [
    "from sklearn.preprocessing import OrdinalEncoder\n",
    "oe=OrdinalEncoder(categories=[[\"High School\",\"Bachelors\",\"Masters\",\"PhD\"]])\n",
    "Apply the transformation\n",
    "df[\"EducationLevel\"] = oe.fit_transform(df[[\"EducationLevel\"]]).astype(int)"
   ]
  },
  {
   "cell_type": "code",
   "execution_count": 118,
   "metadata": {},
   "outputs": [
    {
     "output_type": "execute_result",
     "data": {
      "text/plain": [
       "     Age  Gender EducationLevel         City  Income  HighIncome\n",
       "235   46    Male        Masters      Chicago   56757           0\n",
       "170   61  Female    High School      Houston   37730           0\n",
       "427   36    Male      Bachelors      Chicago   67666           0\n",
       "0     56    Male    High School  Los Angeles  102762           1\n",
       "121   54    Male        Masters      Chicago   78482           0\n",
       "420   64  Female    High School      Chicago   62208           0\n",
       "264   19  Female    High School      Phoenix   43763           0\n",
       "249   56    Male      Bachelors      Houston   75308           0\n",
       "457   46  Female      Bachelors  Los Angeles   70697           0\n",
       "321   51    Male            PhD     New York   62072           0"
      ],
      "text/html": "<div>\n<style scoped>\n    .dataframe tbody tr th:only-of-type {\n        vertical-align: middle;\n    }\n\n    .dataframe tbody tr th {\n        vertical-align: top;\n    }\n\n    .dataframe thead th {\n        text-align: right;\n    }\n</style>\n<table border=\"1\" class=\"dataframe\">\n  <thead>\n    <tr style=\"text-align: right;\">\n      <th></th>\n      <th>Age</th>\n      <th>Gender</th>\n      <th>EducationLevel</th>\n      <th>City</th>\n      <th>Income</th>\n      <th>HighIncome</th>\n    </tr>\n  </thead>\n  <tbody>\n    <tr>\n      <th>235</th>\n      <td>46</td>\n      <td>Male</td>\n      <td>Masters</td>\n      <td>Chicago</td>\n      <td>56757</td>\n      <td>0</td>\n    </tr>\n    <tr>\n      <th>170</th>\n      <td>61</td>\n      <td>Female</td>\n      <td>High School</td>\n      <td>Houston</td>\n      <td>37730</td>\n      <td>0</td>\n    </tr>\n    <tr>\n      <th>427</th>\n      <td>36</td>\n      <td>Male</td>\n      <td>Bachelors</td>\n      <td>Chicago</td>\n      <td>67666</td>\n      <td>0</td>\n    </tr>\n    <tr>\n      <th>0</th>\n      <td>56</td>\n      <td>Male</td>\n      <td>High School</td>\n      <td>Los Angeles</td>\n      <td>102762</td>\n      <td>1</td>\n    </tr>\n    <tr>\n      <th>121</th>\n      <td>54</td>\n      <td>Male</td>\n      <td>Masters</td>\n      <td>Chicago</td>\n      <td>78482</td>\n      <td>0</td>\n    </tr>\n    <tr>\n      <th>420</th>\n      <td>64</td>\n      <td>Female</td>\n      <td>High School</td>\n      <td>Chicago</td>\n      <td>62208</td>\n      <td>0</td>\n    </tr>\n    <tr>\n      <th>264</th>\n      <td>19</td>\n      <td>Female</td>\n      <td>High School</td>\n      <td>Phoenix</td>\n      <td>43763</td>\n      <td>0</td>\n    </tr>\n    <tr>\n      <th>249</th>\n      <td>56</td>\n      <td>Male</td>\n      <td>Bachelors</td>\n      <td>Houston</td>\n      <td>75308</td>\n      <td>0</td>\n    </tr>\n    <tr>\n      <th>457</th>\n      <td>46</td>\n      <td>Female</td>\n      <td>Bachelors</td>\n      <td>Los Angeles</td>\n      <td>70697</td>\n      <td>0</td>\n    </tr>\n    <tr>\n      <th>321</th>\n      <td>51</td>\n      <td>Male</td>\n      <td>PhD</td>\n      <td>New York</td>\n      <td>62072</td>\n      <td>0</td>\n    </tr>\n  </tbody>\n</table>\n</div>"
     },
     "metadata": {},
     "execution_count": 118
    }
   ],
   "source": [
    "df.sample(10)"
   ]
  },
  {
   "cell_type": "code",
   "execution_count": 119,
   "metadata": {},
   "outputs": [],
   "source": [
    "# label encodimg\n",
    "from sklearn.preprocessing import LabelEncoder\n",
    "le=LabelEncoder()\n",
    "# Apply LabelEncoder to the 'HighIncome' column\n",
    "df['HighIncome'] = le.fit_transform(df['HighIncome'])"
   ]
  },
  {
   "cell_type": "code",
   "execution_count": 106,
   "metadata": {},
   "outputs": [
    {
     "output_type": "execute_result",
     "data": {
      "text/plain": [
       "     Age  Gender  EducationLevel         City  Income  HighIncome\n",
       "458   31  Female               0      Houston   56328           0\n",
       "192   61  Female               0  Los Angeles   26975           0\n",
       "488   33  Female               0     New York  112578           1\n",
       "21    55  Female               3      Chicago   51764           0\n",
       "114   26  Female               1      Phoenix   54660           0"
      ],
      "text/html": "<div>\n<style scoped>\n    .dataframe tbody tr th:only-of-type {\n        vertical-align: middle;\n    }\n\n    .dataframe tbody tr th {\n        vertical-align: top;\n    }\n\n    .dataframe thead th {\n        text-align: right;\n    }\n</style>\n<table border=\"1\" class=\"dataframe\">\n  <thead>\n    <tr style=\"text-align: right;\">\n      <th></th>\n      <th>Age</th>\n      <th>Gender</th>\n      <th>EducationLevel</th>\n      <th>City</th>\n      <th>Income</th>\n      <th>HighIncome</th>\n    </tr>\n  </thead>\n  <tbody>\n    <tr>\n      <th>458</th>\n      <td>31</td>\n      <td>Female</td>\n      <td>0</td>\n      <td>Houston</td>\n      <td>56328</td>\n      <td>0</td>\n    </tr>\n    <tr>\n      <th>192</th>\n      <td>61</td>\n      <td>Female</td>\n      <td>0</td>\n      <td>Los Angeles</td>\n      <td>26975</td>\n      <td>0</td>\n    </tr>\n    <tr>\n      <th>488</th>\n      <td>33</td>\n      <td>Female</td>\n      <td>0</td>\n      <td>New York</td>\n      <td>112578</td>\n      <td>1</td>\n    </tr>\n    <tr>\n      <th>21</th>\n      <td>55</td>\n      <td>Female</td>\n      <td>3</td>\n      <td>Chicago</td>\n      <td>51764</td>\n      <td>0</td>\n    </tr>\n    <tr>\n      <th>114</th>\n      <td>26</td>\n      <td>Female</td>\n      <td>1</td>\n      <td>Phoenix</td>\n      <td>54660</td>\n      <td>0</td>\n    </tr>\n  </tbody>\n</table>\n</div>"
     },
     "metadata": {},
     "execution_count": 106
    }
   ],
   "source": [
    "df.sample(5)"
   ]
  },
  {
   "cell_type": "code",
   "execution_count": 120,
   "metadata": {},
   "outputs": [],
   "source": [
    "from sklearn.model_selection import train_test_split\n",
    "X_train,X_test,y_train,y_test = train_test_split(df.drop(columns=['HighIncome']),df['HighIncome'],test_size=0.2)\n",
    "\n",
    "\n"
   ]
  },
  {
   "cell_type": "code",
   "execution_count": 121,
   "metadata": {},
   "outputs": [
    {
     "output_type": "execute_result",
     "data": {
      "text/plain": [
       "(400, 1)"
      ]
     },
     "metadata": {},
     "execution_count": 121
    }
   ],
   "source": [
    "# adding simple imputer \n",
    "si = SimpleImputer(strategy=\"most_frequent\")\n",
    "X_train_edu_lvl = si.fit_transform(X_train[['EducationLevel']])\n",
    "\n",
    "# also the test data\n",
    "X_test_edu_lvl = si.fit_transform(X_test[['EducationLevel']])\n",
    "                                 \n",
    "X_train_edu_lvl.shape"
   ]
  },
  {
   "cell_type": "code",
   "execution_count": 124,
   "metadata": {},
   "outputs": [
    {
     "output_type": "execute_result",
     "data": {
      "text/plain": [
       "(400, 5)"
      ]
     },
     "metadata": {},
     "execution_count": 124
    }
   ],
   "source": [
    "# OneHotEncoding -> gender,city\n",
    "ohe = OneHotEncoder(drop='first',sparse_output=False)\n",
    "X_train_gender_city = ohe.fit_transform(X_train[['Gender','City']])\n",
    "\n",
    "# also the test data\n",
    "X_test_gender_city = ohe.fit_transform(X_test[['Gender','City']])\n",
    "\n",
    "X_train_gender_city.shape\n"
   ]
  },
  {
   "cell_type": "code",
   "execution_count": 126,
   "metadata": {},
   "outputs": [
    {
     "output_type": "execute_result",
     "data": {
      "text/plain": [
       "(400, 1)"
      ]
     },
     "metadata": {},
     "execution_count": 126
    }
   ],
   "source": [
    "from sklearn.preprocessing import OrdinalEncoder\n",
    "# Apply ordinal encoding\n",
    "oe = OrdinalEncoder(categories=[[\"High School\", \"Bachelors\", \"Masters\", \"PhD\"]])\n",
    "X_train_trs_edu_lvl = oe.fit_transform(X_train[[\"EducationLevel\"]])\n",
    "X_test_trs_edu_lvl = oe.transform(X_test[[\"EducationLevel\"]])\n",
    "X_train_trs_edu_lvl.shape"
   ]
  },
  {
   "cell_type": "code",
   "execution_count": 130,
   "metadata": {},
   "outputs": [
    {
     "output_type": "execute_result",
     "data": {
      "text/plain": [
       "(400, 2)"
      ]
     },
     "metadata": {},
     "execution_count": 130
    }
   ],
   "source": [
    "# Extracting Age\n",
    "X_train_age = X_train.drop(columns=['Gender','EducationLevel','City']).values\n",
    "\n",
    "# also the test data\n",
    "X_test_age = X_test.drop(columns=['Gender','EducationLevel','City']).values\n",
    "\n",
    "X_train_age.shape"
   ]
  },
  {
   "cell_type": "code",
   "execution_count": 136,
   "metadata": {},
   "outputs": [],
   "source": [
    "# also the test data\n",
    "X_test_transformed = np.concatenate((X_train_age,X_train_gender_city,X_train_trs_edu_lvl,),axis=1)"
   ]
  },
  {
   "cell_type": "code",
   "execution_count": 137,
   "metadata": {},
   "outputs": [
    {
     "output_type": "execute_result",
     "data": {
      "text/plain": [
       "(400, 8)"
      ]
     },
     "metadata": {},
     "execution_count": 137
    }
   ],
   "source": [
    "X_test_transformed.shape"
   ]
  },
  {
   "cell_type": "code",
   "execution_count": 139,
   "metadata": {},
   "outputs": [
    {
     "output_type": "execute_result",
     "data": {
      "text/plain": [
       "array([[1.80000e+01, 1.00426e+05, 1.00000e+00, ..., 0.00000e+00,\n",
       "        0.00000e+00, 1.00000e+00],\n",
       "       [1.90000e+01, 9.65410e+04, 1.00000e+00, ..., 0.00000e+00,\n",
       "        0.00000e+00, 1.00000e+00],\n",
       "       [1.80000e+01, 8.15070e+04, 1.00000e+00, ..., 0.00000e+00,\n",
       "        0.00000e+00, 3.00000e+00],\n",
       "       ...,\n",
       "       [5.30000e+01, 6.50690e+04, 0.00000e+00, ..., 1.00000e+00,\n",
       "        0.00000e+00, 0.00000e+00],\n",
       "       [4.80000e+01, 3.06170e+04, 1.00000e+00, ..., 0.00000e+00,\n",
       "        1.00000e+00, 3.00000e+00],\n",
       "       [5.00000e+01, 6.18430e+04, 1.00000e+00, ..., 0.00000e+00,\n",
       "        0.00000e+00, 0.00000e+00]], shape=(400, 8))"
      ]
     },
     "metadata": {},
     "execution_count": 139
    }
   ],
   "source": [
    "X_test_transformed"
   ]
  },
  {
   "source": [
    "# Using Column tranformation"
   ],
   "cell_type": "markdown",
   "metadata": {}
  },
  {
   "cell_type": "code",
   "execution_count": 173,
   "metadata": {},
   "outputs": [],
   "source": [
    "from sklearn.model_selection import train_test_split\n",
    "X_train,X_test,y_train,y_test = train_test_split(df.drop(columns=['HighIncome']),df['HighIncome'],test_size=0.2)\n"
   ]
  },
  {
   "cell_type": "code",
   "execution_count": 175,
   "metadata": {},
   "outputs": [],
   "source": [
    "from sklearn.compose import ColumnTransformer\n",
    "from sklearn.impute import SimpleImputer\n",
    "from sklearn.preprocessing import OrdinalEncoder, OneHotEncoder, LabelEncoder\n",
    "import pandas as pd"
   ]
  },
  {
   "cell_type": "code",
   "execution_count": 176,
   "metadata": {},
   "outputs": [],
   "source": [
    "\n",
    "from sklearn.compose import ColumnTransformer\n",
    "from sklearn.impute import SimpleImputer\n",
    "from sklearn.preprocessing import OneHotEncoder\n",
    "\n",
    "transformer = ColumnTransformer(transformers=[\n",
    "    ('impute_education', SimpleImputer(strategy='most_frequent'), ['EducationLevel']),\n",
    "    ('onehot_gender', OneHotEncoder(sparse_output=False, drop='first'), ['Gender']),\n",
    "    ('onehot_city', OneHotEncoder(sparse_output=False, drop='first'), ['City'])\n",
    "], remainder='passthrough')\n",
    "\n"
   ]
  },
  {
   "cell_type": "code",
   "execution_count": 1,
   "metadata": {},
   "outputs": [
    {
     "output_type": "error",
     "ename": "NameError",
     "evalue": "name 'transformer' is not defined",
     "traceback": [
      "\u001b[31m---------------------------------------------------------------------------\u001b[39m",
      "\u001b[31mNameError\u001b[39m                                 Traceback (most recent call last)",
      "\u001b[36mCell\u001b[39m\u001b[36m \u001b[39m\u001b[32mIn[1]\u001b[39m\u001b[32m, line 1\u001b[39m\n\u001b[32m----> \u001b[39m\u001b[32m1\u001b[39m \u001b[43mtransformer\u001b[49m.fit_transform(X_train).shape\n",
      "\u001b[31mNameError\u001b[39m: name 'transformer' is not defined"
     ]
    }
   ],
   "source": [
    "transformer.fit_transform(X_train).shape\n"
   ]
  },
  {
   "cell_type": "code",
   "execution_count": 185,
   "metadata": {},
   "outputs": [],
   "source": [
    "\n",
    "X_train_transformed=transformer.transform(X_test).shape\n"
   ]
  },
  {
   "cell_type": "code",
   "execution_count": 190,
   "metadata": {},
   "outputs": [
    {
     "output_type": "stream",
     "name": "stdout",
     "text": [
      "(400, 8)\n8\n  impute_education__EducationLevel onehot_gender__Gender_Male  \\\n0                          Masters                        1.0   \n1                          Masters                        1.0   \n2                              PhD                        0.0   \n3                      High School                        0.0   \n4                          Masters                        1.0   \n\n  onehot_city__City_Houston onehot_city__City_Los Angeles  \\\n0                       0.0                           1.0   \n1                       1.0                           0.0   \n2                       0.0                           0.0   \n3                       0.0                           0.0   \n4                       0.0                           0.0   \n\n  onehot_city__City_New York onehot_city__City_Phoenix remainder__Age  \\\n0                        0.0                       0.0             46   \n1                        0.0                       0.0             41   \n2                        0.0                       0.0             30   \n3                        0.0                       0.0             45   \n4                        0.0                       1.0             56   \n\n  remainder__Income  \n0             77306  \n1             94081  \n2             59662  \n3             84190  \n4            118267  \n"
     ]
    }
   ],
   "source": [
    "from scipy.sparse import csr_matrix\n",
    "\n",
    "# Step 1: Apply the transformation\n",
    "X_transformed = transformer.fit_transform(X_train)\n",
    "\n",
    "# Step 2: Convert to dense array if sparse (to avoid errors)\n",
    "X_transformed = X_transformed.toarray() if isinstance(X_transformed, csr_matrix) else X_transformed\n",
    "\n",
    "# Step 3: Get the feature names after transformation\n",
    "feature_names = transformer.get_feature_names_out()\n",
    "\n",
    "# Step 4: Ensure the transformed data shape matches the number of feature names\n",
    "print(X_transformed.shape)\n",
    "print(len(feature_names))\n",
    "\n",
    "# Step 5: Convert the transformed data to a DataFrame\n",
    "X_transformed_df = pd.DataFrame(X_transformed, columns=feature_names)\n",
    "\n",
    "# Step 6: Display the DataFrame\n",
    "print(X_transformed_df.head())\n",
    "\n"
   ]
  },
  {
   "cell_type": "code",
   "execution_count": null,
   "metadata": {},
   "outputs": [],
   "source": []
  }
 ]
}
